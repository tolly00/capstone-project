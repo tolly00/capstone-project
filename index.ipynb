{
 "cells": [
  {
   "attachments": {},
   "cell_type": "markdown",
   "id": "db9d18e7-cd34-4ad2-a720-6a3997e91917",
   "metadata": {},
   "source": [
    "# AKADEMI - First Cohort (2025): Data Science & AI \n",
    "## Capstone Project\n",
    "\n",
    "**Team members:**\n",
    "- Alberto SYLVEUS\n",
    "- Marcus Serginio INOSSAINT\n",
    "\n",
    "**Instructor's name:**\n",
    "- Wedter JEROME\n",
    "- Geavany Baptista Polo LAGUERRE\n"
   ]
  },
  {
   "cell_type": "markdown",
   "id": "ce053237-796b-477f-9b38-fb45e9021548",
   "metadata": {},
   "source": [
    "##  Project title : Predicting Photovoltaic Energy Production Performance"
   ]
  },
  {
   "cell_type": "markdown",
   "id": "c846c3c6-22c5-4353-97fb-cde807f22ae2",
   "metadata": {},
   "source": [
    "![images](images/solar_panel.jpg)"
   ]
  },
  {
   "cell_type": "markdown",
   "id": "dd3459d2-e1a6-4d82-b4d6-4e149ac7a615",
   "metadata": {},
   "source": [
    "## Overview\n",
    "This is about a predictive model base on environmental and technical factors to determine the energy production performance."
   ]
  },
  {
   "cell_type": "markdown",
   "id": "dccff995-d153-453d-b07c-79298af4ad78",
   "metadata": {},
   "source": [
    "## Business Understanding\n",
    "\n",
    "The efficiency of photovoltaic (PV) energy production is highly dependent on multiple environmental and technical factors such as solar irradiance, temperature, humidity, wind speed, and panel configuration. Since these conditions vary daily, predicting energy output remains a challenge for both energy providers and communities that rely on solar energy.\n",
    "\n",
    "Business Problem\n",
    "\n",
    "Energy providers and communities often struggle to anticipate the level of solar energy production (low, medium, or high) for the next day. This uncertainty directly impacts:\n",
    "\n",
    "- Energy storage planning: Insufficient storage allocation can lead to wasted energy on high-production days or shortages on low-production days.\n",
    "\n",
    "- Grid balancing: Without accurate forecasts, providers may face instability in balancing supply with demand.\n",
    "\n",
    "- Consumption management: Communities and businesses cannot optimize their energy usage schedules effectively.\n",
    "\n",
    "Business Objective\n",
    "\n",
    "The objective of this project is to develop a predictive model that classifies the level of PV energy production (low, medium, high) for the following day based on environmental and technical factors. This solution will enable:\n",
    "\n",
    "- Improved forecasting for energy providers.\n",
    "\n",
    "- Better storage and distribution management.\n",
    "\n",
    "- More efficient grid balancing.\n",
    "\n",
    "- Informed consumption planning for end-users.\n",
    "\n",
    "Business Value\n",
    "\n",
    "By improving prediction of daily PV energy production levels, the solution can:\n",
    "\n",
    "- Reduce energy waste by aligning storage capacity with production forecasts.\n",
    "\n",
    "- Enhance grid reliability and stability.\n",
    "\n",
    "- Optimize operational costs for energy providers.\n",
    "\n",
    "- Empower communities to make better decisions on energy usage, contributing to sustainable development."
   ]
  },
  {
   "cell_type": "markdown",
   "id": "6354f0ff-8448-42bb-8f53-7d492fcaa773",
   "metadata": {},
   "source": [
    "## Data Understanding\n",
    "The dataset(...) that we are going to use in this project content environment and technical data. it includes 721 rows and 8 columns.\n",
    "\n",
    "**Dataset features**\n",
    "- Timestamp (object)\n",
    "- Solar_Irradiance (float)\n",
    "- Temperature (float)\n",
    "- Humidity (float): The percentage of moisture in the air. High humidity can reduce solar radiation reaching the panels and affect efficiency.\n",
    "- Wind_Speed (float)\n",
    "- Panel_Angle (float)\n",
    "  \n",
    "**Targets**\n",
    "- Energy_Output (float, kWh)\n",
    "- Energy_Output_Class (categorical: Low, Medium, High)\n",
    "\n",
    "\n"
   ]
  },
  {
   "cell_type": "markdown",
   "id": "47a76753-74d1-4159-82f0-643c2f004721",
   "metadata": {},
   "source": []
  },
  {
   "cell_type": "code",
   "execution_count": null,
   "id": "b98992b7-622a-449d-98b3-8c62fa9d0417",
   "metadata": {},
   "outputs": [],
   "source": []
  }
 ],
 "metadata": {
  "kernelspec": {
   "display_name": "Python 3 (ipykernel)",
   "language": "python",
   "name": "python3"
  },
  "language_info": {
   "codemirror_mode": {
    "name": "ipython",
    "version": 3
   },
   "file_extension": ".py",
   "mimetype": "text/x-python",
   "name": "python",
   "nbconvert_exporter": "python",
   "pygments_lexer": "ipython3",
   "version": "3.12.7"
  }
 },
 "nbformat": 4,
 "nbformat_minor": 5
}
