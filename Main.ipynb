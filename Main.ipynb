{
 "cells": [
  {
   "cell_type": "markdown",
   "metadata": {
    "nbgrader": {
     "grade": false,
     "grade_id": "cell-45225d96ef8db436",
     "locked": true,
     "schema_version": 3,
     "solution": false,
     "task": false
    }
   },
   "source": [
    "# Predicting Photovoltaic Energy Production Performance\n",
    "\n",
    "We are going to perform a predictive analysis for...\n",
    "\n",
    "Specifically, this will cover:\n",
    "\n",
    "* Performing a train-test split to evaluate model performance on unseen data\n",
    "* Applying appropriate preprocessing steps to training and test data\n",
    "* Identifying overfitting and underfitting"
   ]
  },
  {
   "cell_type": "markdown",
   "metadata": {
    "nbgrader": {
     "grade": false,
     "grade_id": "cell-80e2de554ec6f219",
     "locked": true,
     "schema_version": 3,
     "solution": false,
     "task": false
    }
   },
   "source": [
    "### Data Understanding\n",
    "\n",
    "I will be using the enhanced photovoltaic dataset, modeling the `...` based on all other numeric features of the dataset. ([dataset here](https://www.kaggle.com/datasets/ziya07/photovoltaic-plant-monitoring/data))"
   ]
  },
  {
   "cell_type": "markdown",
   "metadata": {},
   "source": [
    "#### Let's import libaries"
   ]
  },
  {
   "cell_type": "code",
   "execution_count": 1,
   "metadata": {},
   "outputs": [],
   "source": [
    "import pandas as pd\n",
    "import numpy as np\n",
    "import matplotlib.pyplot as plt\n",
    "import seaborn as sns\n",
    "\n",
    "from sklearn.preprocessing import OneHotEncoder\n",
    "from sklearn.model_selection import train_test_split, GridSearchCV\n",
    "from sklearn.preprocessing import StandardScaler\n",
    "from sklearn.linear_model import LogisticRegression\n",
    "from sklearn.tree import DecisionTreeClassifier\n",
    "from sklearn.metrics import (\n",
    "    classification_report,\n",
    "    confusion_matrix,\n",
    "    ConfusionMatrixDisplay,\n",
    "    roc_auc_score,\n",
    "    RocCurveDisplay,\n",
    "    accuracy_score\n",
    ")"
   ]
  },
  {
   "cell_type": "markdown",
   "metadata": {},
   "source": [
    "#### Quick EDA"
   ]
  },
  {
   "cell_type": "code",
   "execution_count": 2,
   "metadata": {},
   "outputs": [
    {
     "name": "stdout",
     "output_type": "stream",
     "text": [
      "                     Solar_Irradiance  Temperature   Humidity  Wind_Speed  \\\n",
      "Timestamp                                                                   \n",
      "2024-01-01 00:00:00        499.632095    19.530827  70.534191   12.621713   \n",
      "2024-01-01 01:00:00        960.571445    16.662407  49.937520    7.069308   \n",
      "2024-01-01 02:00:00        785.595153    33.528016  88.132803   14.686574   \n",
      "2024-01-01 03:00:00        678.926787    29.361828  25.943481    9.512132   \n",
      "2024-01-01 04:00:00        324.814912    36.045719  72.336336    1.893971   \n",
      "\n",
      "                     Panel_Angle  Energy_Output Energy_Output_Class  \n",
      "Timestamp                                                            \n",
      "2024-01-01 00:00:00     6.210683     117.090063                 Low  \n",
      "2024-01-01 01:00:00    84.670607     478.957863                High  \n",
      "2024-01-01 02:00:00    45.622839     190.098226                 Low  \n",
      "2024-01-01 03:00:00    36.847086     503.067447                High  \n",
      "2024-01-01 04:00:00    72.979072     506.471717                High  \n"
     ]
    }
   ],
   "source": [
    "# Load dataset\n",
    "df = pd.read_csv(\"Data/enhanced_photovoltaic_data.csv\", index_col=0)\n",
    "# Preview\n",
    "print(df.head())"
   ]
  },
  {
   "cell_type": "code",
   "execution_count": 3,
   "metadata": {},
   "outputs": [
    {
     "name": "stdout",
     "output_type": "stream",
     "text": [
      "<class 'pandas.core.frame.DataFrame'>\n",
      "Index: 721 entries, 2024-01-01 00:00:00 to 2024-01-31 00:00:00\n",
      "Data columns (total 7 columns):\n",
      " #   Column               Non-Null Count  Dtype  \n",
      "---  ------               --------------  -----  \n",
      " 0   Solar_Irradiance     721 non-null    float64\n",
      " 1   Temperature          721 non-null    float64\n",
      " 2   Humidity             721 non-null    float64\n",
      " 3   Wind_Speed           721 non-null    float64\n",
      " 4   Panel_Angle          721 non-null    float64\n",
      " 5   Energy_Output        721 non-null    float64\n",
      " 6   Energy_Output_Class  721 non-null    object \n",
      "dtypes: float64(6), object(1)\n",
      "memory usage: 45.1+ KB\n",
      "None\n"
     ]
    }
   ],
   "source": [
    "print(df.info())"
   ]
  },
  {
   "cell_type": "code",
   "execution_count": 5,
   "metadata": {},
   "outputs": [
    {
     "name": "stdout",
     "output_type": "stream",
     "text": [
      "Missing values per column:\n",
      "Solar_Irradiance       0\n",
      "Temperature            0\n",
      "Humidity               0\n",
      "Wind_Speed             0\n",
      "Panel_Angle            0\n",
      "Energy_Output          0\n",
      "Energy_Output_Class    0\n",
      "dtype: int64\n"
     ]
    }
   ],
   "source": [
    "# --- Missing values check ---\n",
    "print(\"Missing values per column:\")\n",
    "print(df.isnull().sum())"
   ]
  },
  {
   "cell_type": "code",
   "execution_count": 6,
   "metadata": {},
   "outputs": [
    {
     "name": "stdout",
     "output_type": "stream",
     "text": [
      "\n",
      "Percentage of missing values:\n",
      "Solar_Irradiance       0.0\n",
      "Temperature            0.0\n",
      "Humidity               0.0\n",
      "Wind_Speed             0.0\n",
      "Panel_Angle            0.0\n",
      "Energy_Output          0.0\n",
      "Energy_Output_Class    0.0\n",
      "dtype: float64\n"
     ]
    }
   ],
   "source": [
    "print(\"\\nPercentage of missing values:\")\n",
    "print((df.isnull().mean() * 100).round(2))"
   ]
  },
  {
   "cell_type": "markdown",
   "metadata": {
    "nbgrader": {
     "grade": false,
     "grade_id": "cell-927990ad603957cb",
     "locked": true,
     "schema_version": 3,
     "solution": false,
     "task": false
    }
   },
   "source": [
    "### Modeling\n",
    "\n",
    "For the current matter we will build **two models** : \n",
    "1) A Logistic regression as the baseline model.\n",
    "2) A Decision tree model as the second one, more complexe and finally tune it for more improvement.\n",
    "\n",
    "For this reason I will first perform a **train-test split**, so that I am fitting the model using the training dataset and evaluating the model using the testing dataset.\n",
    "\n",
    "\n",
    "### Requirements\n",
    "\n",
    "#### 1. Perform a Train-Test Split\n",
    "\n",
    "#### 2. Fit a `Logistic regression` Model\n",
    "\n",
    "#### 3. Fit a `Decision tree` Model\n",
    "\n",
    "#### 4. Fit a `Decision tree Tuned` Model ( Improve the previous model )\n",
    "\n",
    "#### 5. Compare the models\n",
    "\n",
    "#### 6. Determine feature importance"
   ]
  },
  {
   "cell_type": "markdown",
   "metadata": {
    "nbgrader": {
     "grade": false,
     "grade_id": "cell-c5667f384accd25f",
     "locked": true,
     "schema_version": 3,
     "solution": false,
     "task": false
    }
   },
   "source": [
    "## 1. Train-Test Split\n"
   ]
  },
  {
   "cell_type": "markdown",
   "metadata": {},
   "source": [
    "# 2. Fit a Logistic Regresssion Model\n",
    "\n",
    "This is our baseline model. We will use StandardScaler class to scale sets data"
   ]
  },
  {
   "cell_type": "markdown",
   "metadata": {
    "nbgrader": {
     "grade": false,
     "grade_id": "cell-9b1011f4acfaeec3",
     "locked": true,
     "schema_version": 3,
     "solution": false,
     "task": false
    }
   },
   "source": [
    "## 3. Fit a `Decision Tree` Model\n",
    "\n"
   ]
  },
  {
   "cell_type": "markdown",
   "metadata": {
    "nbgrader": {
     "grade": false,
     "grade_id": "cell-593a8cb979622402",
     "locked": true,
     "schema_version": 3,
     "solution": false,
     "task": false
    }
   },
   "source": [
    "## 4. Improved Model — Hyperparameter Tuning"
   ]
  },
  {
   "cell_type": "markdown",
   "metadata": {
    "nbgrader": {
     "grade": false,
     "grade_id": "cell-eb5aa46c99fc351c",
     "locked": true,
     "schema_version": 3,
     "solution": false,
     "task": false
    }
   },
   "source": [
    "## 5. Model Comparison"
   ]
  },
  {
   "cell_type": "markdown",
   "metadata": {},
   "source": [
    "#### Observation\n"
   ]
  },
  {
   "cell_type": "markdown",
   "metadata": {},
   "source": [
    "## 6. Feature importance"
   ]
  },
  {
   "cell_type": "markdown",
   "metadata": {},
   "source": [
    "## Business Recommendations"
   ]
  }
 ],
 "metadata": {
  "celltoolbar": "Create Assignment",
  "kernelspec": {
   "display_name": "base",
   "language": "python",
   "name": "python3"
  },
  "language_info": {
   "codemirror_mode": {
    "name": "ipython",
    "version": 3
   },
   "file_extension": ".py",
   "mimetype": "text/x-python",
   "name": "python",
   "nbconvert_exporter": "python",
   "pygments_lexer": "ipython3",
   "version": "3.12.7"
  }
 },
 "nbformat": 4,
 "nbformat_minor": 4
}
