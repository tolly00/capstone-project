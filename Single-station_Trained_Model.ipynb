{
 "cells": [
  {
   "cell_type": "code",
   "execution_count": 2,
   "id": "8ea6f71c",
   "metadata": {},
   "outputs": [],
   "source": [
    "import numpy as np\n",
    "import pandas as pd\n",
    "\n",
    "# Preprocessing\n",
    "from sklearn.preprocessing import StandardScaler, LabelEncoder\n",
    "\n",
    "# Modeling\n",
    "from sklearn.linear_model import LogisticRegression\n",
    "from sklearn.ensemble import RandomForestClassifier \n",
    "\n",
    "# Metrics\n",
    "from sklearn.metrics import classification_report, accuracy_score\n",
    "from sklearn.metrics import confusion_matrix, ConfusionMatrixDisplay\n",
    "from sklearn.metrics import roc_curve, roc_auc_score\n",
    "\n",
    "#visualization \n",
    "import matplotlib.pyplot as plt\n",
    "import seaborn as sns\n",
    "\n",
    "import warnings\n",
    "warnings.filterwarnings('ignore')  # Suppress all warnings"
   ]
  },
  {
   "cell_type": "markdown",
   "id": "9078d408",
   "metadata": {},
   "source": [
    "## Load the dataset"
   ]
  },
  {
   "cell_type": "code",
   "execution_count": 3,
   "id": "adc5b4a1",
   "metadata": {},
   "outputs": [
    {
     "name": "stdout",
     "output_type": "stream",
     "text": [
      "<class 'pandas.core.frame.DataFrame'>\n",
      "RangeIndex: 33408 entries, 0 to 33407\n",
      "Data columns (total 15 columns):\n",
      " #   Column             Non-Null Count  Dtype  \n",
      "---  ------             --------------  -----  \n",
      " 0   date_time          33408 non-null  object \n",
      " 1   nwp_globalirrad    33408 non-null  float64\n",
      " 2   nwp_directirrad    33408 non-null  float64\n",
      " 3   nwp_temperature    33408 non-null  float64\n",
      " 4   nwp_humidity       33408 non-null  float64\n",
      " 5   nwp_windspeed      33408 non-null  float64\n",
      " 6   nwp_winddirection  33408 non-null  float64\n",
      " 7   nwp_pressure       33408 non-null  float64\n",
      " 8   lmd_totalirrad     33408 non-null  float64\n",
      " 9   lmd_diffuseirrad   33408 non-null  float64\n",
      " 10  lmd_temperature    33408 non-null  float64\n",
      " 11  lmd_pressure       33408 non-null  float64\n",
      " 12  lmd_winddirection  33408 non-null  float64\n",
      " 13  lmd_windspeed      33408 non-null  float64\n",
      " 14  power              33408 non-null  float64\n",
      "dtypes: float64(14), object(1)\n",
      "memory usage: 3.8+ MB\n"
     ]
    }
   ],
   "source": [
    "df = pd.read_csv('Data/station01.csv')\n",
    "df.info()"
   ]
  }
 ],
 "metadata": {
  "kernelspec": {
   "display_name": "base",
   "language": "python",
   "name": "python3"
  },
  "language_info": {
   "codemirror_mode": {
    "name": "ipython",
    "version": 3
   },
   "file_extension": ".py",
   "mimetype": "text/x-python",
   "name": "python",
   "nbconvert_exporter": "python",
   "pygments_lexer": "ipython3",
   "version": "3.12.7"
  }
 },
 "nbformat": 4,
 "nbformat_minor": 5
}
